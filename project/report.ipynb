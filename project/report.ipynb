{
 "cells": [
  {
   "cell_type": "markdown",
   "id": "520db0eb8c9ad58a",
   "metadata": {
    "collapsed": false
   },
   "source": [
    "# Report"
   ]
  },
  {
   "cell_type": "markdown",
   "id": "6e8dc638e40b8f8f",
   "metadata": {
    "collapsed": false
   },
   "source": [
    "Install Dependencies"
   ]
  },
  {
   "cell_type": "code",
   "execution_count": 48,
   "id": "f7f03a78c91d6480",
   "metadata": {
    "ExecuteTime": {
     "end_time": "2024-01-06T22:04:11.402032Z",
     "start_time": "2024-01-06T22:04:05.083580Z"
    },
    "collapsed": false
   },
   "outputs": [
    {
     "name": "stdout",
     "output_type": "stream",
     "text": [
      "Requirement already satisfied: pandas in /Users/arpitahalder/opt/anaconda3/envs/tensorflow/lib/python3.8/site-packages (2.0.3)\r\n",
      "Requirement already satisfied: pytz>=2020.1 in /Users/arpitahalder/opt/anaconda3/envs/tensorflow/lib/python3.8/site-packages (from pandas) (2021.1)\r\n",
      "Requirement already satisfied: tzdata>=2022.1 in /Users/arpitahalder/opt/anaconda3/envs/tensorflow/lib/python3.8/site-packages (from pandas) (2023.3)\r\n",
      "Requirement already satisfied: numpy>=1.20.3 in /Users/arpitahalder/opt/anaconda3/envs/tensorflow/lib/python3.8/site-packages (from pandas) (1.24.4)\r\n",
      "Requirement already satisfied: python-dateutil>=2.8.2 in /Users/arpitahalder/opt/anaconda3/envs/tensorflow/lib/python3.8/site-packages (from pandas) (2.8.2)\r\n",
      "Requirement already satisfied: six>=1.5 in /Users/arpitahalder/opt/anaconda3/envs/tensorflow/lib/python3.8/site-packages (from python-dateutil>=2.8.2->pandas) (1.16.0)\r\n",
      "Note: you may need to restart the kernel to use updated packages.\n",
      "Requirement already satisfied: SQLAlchemy==1.4.46 in /Users/arpitahalder/opt/anaconda3/envs/tensorflow/lib/python3.8/site-packages (1.4.46)\r\n",
      "Requirement already satisfied: greenlet!=0.4.17 in /Users/arpitahalder/opt/anaconda3/envs/tensorflow/lib/python3.8/site-packages (from SQLAlchemy==1.4.46) (3.0.3)\r\n",
      "Note: you may need to restart the kernel to use updated packages.\n",
      "Requirement already satisfied: matplotlib in /Users/arpitahalder/opt/anaconda3/envs/tensorflow/lib/python3.8/site-packages (3.5.2)\r\n",
      "Requirement already satisfied: kiwisolver>=1.0.1 in /Users/arpitahalder/opt/anaconda3/envs/tensorflow/lib/python3.8/site-packages (from matplotlib) (1.4.2)\r\n",
      "Requirement already satisfied: pyparsing>=2.2.1 in /Users/arpitahalder/opt/anaconda3/envs/tensorflow/lib/python3.8/site-packages (from matplotlib) (3.0.9)\r\n",
      "Requirement already satisfied: packaging>=20.0 in /Users/arpitahalder/opt/anaconda3/envs/tensorflow/lib/python3.8/site-packages (from matplotlib) (21.3)\r\n",
      "Requirement already satisfied: fonttools>=4.22.0 in /Users/arpitahalder/opt/anaconda3/envs/tensorflow/lib/python3.8/site-packages (from matplotlib) (4.29.1)\r\n",
      "Requirement already satisfied: numpy>=1.17 in /Users/arpitahalder/opt/anaconda3/envs/tensorflow/lib/python3.8/site-packages (from matplotlib) (1.24.4)\r\n",
      "Requirement already satisfied: pillow>=6.2.0 in /Users/arpitahalder/opt/anaconda3/envs/tensorflow/lib/python3.8/site-packages (from matplotlib) (9.2.0)\r\n",
      "Requirement already satisfied: python-dateutil>=2.7 in /Users/arpitahalder/opt/anaconda3/envs/tensorflow/lib/python3.8/site-packages (from matplotlib) (2.8.2)\r\n",
      "Requirement already satisfied: cycler>=0.10 in /Users/arpitahalder/opt/anaconda3/envs/tensorflow/lib/python3.8/site-packages (from matplotlib) (0.11.0)\r\n",
      "Requirement already satisfied: six>=1.5 in /Users/arpitahalder/opt/anaconda3/envs/tensorflow/lib/python3.8/site-packages (from python-dateutil>=2.7->matplotlib) (1.16.0)\r\n",
      "Note: you may need to restart the kernel to use updated packages.\n",
      "Requirement already satisfied: seaborn in /Users/arpitahalder/opt/anaconda3/envs/tensorflow/lib/python3.8/site-packages (0.13.1)\r\n",
      "Requirement already satisfied: numpy!=1.24.0,>=1.20 in /Users/arpitahalder/opt/anaconda3/envs/tensorflow/lib/python3.8/site-packages (from seaborn) (1.24.4)\r\n",
      "Requirement already satisfied: pandas>=1.2 in /Users/arpitahalder/opt/anaconda3/envs/tensorflow/lib/python3.8/site-packages (from seaborn) (2.0.3)\r\n",
      "Requirement already satisfied: matplotlib!=3.6.1,>=3.4 in /Users/arpitahalder/opt/anaconda3/envs/tensorflow/lib/python3.8/site-packages (from seaborn) (3.5.2)\r\n",
      "Requirement already satisfied: pyparsing>=2.2.1 in /Users/arpitahalder/opt/anaconda3/envs/tensorflow/lib/python3.8/site-packages (from matplotlib!=3.6.1,>=3.4->seaborn) (3.0.9)\r\n",
      "Requirement already satisfied: python-dateutil>=2.7 in /Users/arpitahalder/opt/anaconda3/envs/tensorflow/lib/python3.8/site-packages (from matplotlib!=3.6.1,>=3.4->seaborn) (2.8.2)\r\n",
      "Requirement already satisfied: kiwisolver>=1.0.1 in /Users/arpitahalder/opt/anaconda3/envs/tensorflow/lib/python3.8/site-packages (from matplotlib!=3.6.1,>=3.4->seaborn) (1.4.2)\r\n",
      "Requirement already satisfied: packaging>=20.0 in /Users/arpitahalder/opt/anaconda3/envs/tensorflow/lib/python3.8/site-packages (from matplotlib!=3.6.1,>=3.4->seaborn) (21.3)\r\n",
      "Requirement already satisfied: fonttools>=4.22.0 in /Users/arpitahalder/opt/anaconda3/envs/tensorflow/lib/python3.8/site-packages (from matplotlib!=3.6.1,>=3.4->seaborn) (4.29.1)\r\n",
      "Requirement already satisfied: pillow>=6.2.0 in /Users/arpitahalder/opt/anaconda3/envs/tensorflow/lib/python3.8/site-packages (from matplotlib!=3.6.1,>=3.4->seaborn) (9.2.0)\r\n",
      "Requirement already satisfied: cycler>=0.10 in /Users/arpitahalder/opt/anaconda3/envs/tensorflow/lib/python3.8/site-packages (from matplotlib!=3.6.1,>=3.4->seaborn) (0.11.0)\r\n",
      "Requirement already satisfied: tzdata>=2022.1 in /Users/arpitahalder/opt/anaconda3/envs/tensorflow/lib/python3.8/site-packages (from pandas>=1.2->seaborn) (2023.3)\r\n",
      "Requirement already satisfied: pytz>=2020.1 in /Users/arpitahalder/opt/anaconda3/envs/tensorflow/lib/python3.8/site-packages (from pandas>=1.2->seaborn) (2021.1)\r\n",
      "Requirement already satisfied: six>=1.5 in /Users/arpitahalder/opt/anaconda3/envs/tensorflow/lib/python3.8/site-packages (from python-dateutil>=2.7->matplotlib!=3.6.1,>=3.4->seaborn) (1.16.0)\r\n",
      "Note: you may need to restart the kernel to use updated packages.\n"
     ]
    }
   ],
   "source": [
    "%pip install pandas\n",
    "%pip install SQLAlchemy==1.4.46\n",
    "%pip install matplotlib\n",
    "%pip install seaborn"
   ]
  },
  {
   "cell_type": "markdown",
   "id": "3383c229a19a200b",
   "metadata": {
    "collapsed": false
   },
   "source": [
    "Import libraries"
   ]
  },
  {
   "cell_type": "code",
   "execution_count": 49,
   "id": "4e4f8fb655fa9271",
   "metadata": {
    "ExecuteTime": {
     "end_time": "2024-01-06T22:04:11.407351Z",
     "start_time": "2024-01-06T22:04:11.402344Z"
    },
    "collapsed": false
   },
   "outputs": [],
   "source": [
    "import pandas as pd\n",
    "import matplotlib.pyplot as plt\n",
    "import seaborn as sns"
   ]
  },
  {
   "cell_type": "markdown",
   "id": "56449bdd24c56a08",
   "metadata": {
    "collapsed": false
   },
   "source": [
    "Load data"
   ]
  },
  {
   "cell_type": "code",
   "execution_count": 50,
   "id": "edcbbaca25956c4a",
   "metadata": {
    "ExecuteTime": {
     "end_time": "2024-01-06T22:04:11.445064Z",
     "start_time": "2024-01-06T22:04:11.409807Z"
    },
    "collapsed": false
   },
   "outputs": [],
   "source": [
    "# Read the table Salary into a Pandas dataframe\n",
    "df = pd.read_sql_table('clean_salary', 'sqlite:///../data/clean_salary.sqlite')"
   ]
  },
  {
   "cell_type": "code",
   "execution_count": 51,
   "id": "44e981c9242e0ab",
   "metadata": {
    "ExecuteTime": {
     "end_time": "2024-01-06T22:04:11.461216Z",
     "start_time": "2024-01-06T22:04:11.456166Z"
    },
    "collapsed": false
   },
   "outputs": [
    {
     "data": {
      "text/html": [
       "<div>\n",
       "<style scoped>\n",
       "    .dataframe tbody tr th:only-of-type {\n",
       "        vertical-align: middle;\n",
       "    }\n",
       "\n",
       "    .dataframe tbody tr th {\n",
       "        vertical-align: top;\n",
       "    }\n",
       "\n",
       "    .dataframe thead th {\n",
       "        text-align: right;\n",
       "    }\n",
       "</style>\n",
       "<table border=\"1\" class=\"dataframe\">\n",
       "  <thead>\n",
       "    <tr style=\"text-align: right;\">\n",
       "      <th></th>\n",
       "      <th>Job Title</th>\n",
       "      <th>Salary Estimate</th>\n",
       "      <th>Job Description</th>\n",
       "      <th>Rating</th>\n",
       "      <th>Company Name</th>\n",
       "      <th>Location</th>\n",
       "      <th>Headquarters</th>\n",
       "      <th>Size</th>\n",
       "      <th>Founded</th>\n",
       "      <th>Type of ownership</th>\n",
       "      <th>...</th>\n",
       "      <th>avg_salary</th>\n",
       "      <th>company_txt</th>\n",
       "      <th>job_state</th>\n",
       "      <th>same_state</th>\n",
       "      <th>age</th>\n",
       "      <th>python_yn</th>\n",
       "      <th>R_yn</th>\n",
       "      <th>spark</th>\n",
       "      <th>aws</th>\n",
       "      <th>excel</th>\n",
       "    </tr>\n",
       "  </thead>\n",
       "  <tbody>\n",
       "    <tr>\n",
       "      <th>0</th>\n",
       "      <td>Data Scientist</td>\n",
       "      <td>$53K-$91K (Glassdoor est.)</td>\n",
       "      <td>Data Scientist\\nLocation: Albuquerque, NM\\nEdu...</td>\n",
       "      <td>3.8</td>\n",
       "      <td>Tecolote Research\\n3.8</td>\n",
       "      <td>Albuquerque, NM</td>\n",
       "      <td>Goleta, CA</td>\n",
       "      <td>501 to 1000 employees</td>\n",
       "      <td>1973</td>\n",
       "      <td>Company - Private</td>\n",
       "      <td>...</td>\n",
       "      <td>72.0</td>\n",
       "      <td>Tecolote Research\\n</td>\n",
       "      <td>NM</td>\n",
       "      <td>0</td>\n",
       "      <td>47</td>\n",
       "      <td>1</td>\n",
       "      <td>0</td>\n",
       "      <td>0</td>\n",
       "      <td>0</td>\n",
       "      <td>1</td>\n",
       "    </tr>\n",
       "    <tr>\n",
       "      <th>1</th>\n",
       "      <td>Healthcare Data Scientist</td>\n",
       "      <td>$63K-$112K (Glassdoor est.)</td>\n",
       "      <td>What You Will Do:\\n\\nI. General Summary\\n\\nThe...</td>\n",
       "      <td>3.4</td>\n",
       "      <td>University of Maryland Medical System\\n3.4</td>\n",
       "      <td>Linthicum, MD</td>\n",
       "      <td>Baltimore, MD</td>\n",
       "      <td>10000+ employees</td>\n",
       "      <td>1984</td>\n",
       "      <td>Other Organization</td>\n",
       "      <td>...</td>\n",
       "      <td>87.5</td>\n",
       "      <td>University of Maryland Medical System\\n</td>\n",
       "      <td>MD</td>\n",
       "      <td>0</td>\n",
       "      <td>36</td>\n",
       "      <td>1</td>\n",
       "      <td>0</td>\n",
       "      <td>0</td>\n",
       "      <td>0</td>\n",
       "      <td>0</td>\n",
       "    </tr>\n",
       "    <tr>\n",
       "      <th>2</th>\n",
       "      <td>Data Scientist</td>\n",
       "      <td>$80K-$90K (Glassdoor est.)</td>\n",
       "      <td>KnowBe4, Inc. is a high growth information sec...</td>\n",
       "      <td>4.8</td>\n",
       "      <td>KnowBe4\\n4.8</td>\n",
       "      <td>Clearwater, FL</td>\n",
       "      <td>Clearwater, FL</td>\n",
       "      <td>501 to 1000 employees</td>\n",
       "      <td>2010</td>\n",
       "      <td>Company - Private</td>\n",
       "      <td>...</td>\n",
       "      <td>85.0</td>\n",
       "      <td>KnowBe4\\n</td>\n",
       "      <td>FL</td>\n",
       "      <td>1</td>\n",
       "      <td>10</td>\n",
       "      <td>1</td>\n",
       "      <td>0</td>\n",
       "      <td>1</td>\n",
       "      <td>0</td>\n",
       "      <td>1</td>\n",
       "    </tr>\n",
       "    <tr>\n",
       "      <th>3</th>\n",
       "      <td>Data Scientist</td>\n",
       "      <td>$56K-$97K (Glassdoor est.)</td>\n",
       "      <td>*Organization and Job ID**\\nJob ID: 310709\\n\\n...</td>\n",
       "      <td>3.8</td>\n",
       "      <td>PNNL\\n3.8</td>\n",
       "      <td>Richland, WA</td>\n",
       "      <td>Richland, WA</td>\n",
       "      <td>1001 to 5000 employees</td>\n",
       "      <td>1965</td>\n",
       "      <td>Government</td>\n",
       "      <td>...</td>\n",
       "      <td>76.5</td>\n",
       "      <td>PNNL\\n</td>\n",
       "      <td>WA</td>\n",
       "      <td>1</td>\n",
       "      <td>55</td>\n",
       "      <td>1</td>\n",
       "      <td>0</td>\n",
       "      <td>0</td>\n",
       "      <td>0</td>\n",
       "      <td>0</td>\n",
       "    </tr>\n",
       "    <tr>\n",
       "      <th>4</th>\n",
       "      <td>Data Scientist</td>\n",
       "      <td>$86K-$143K (Glassdoor est.)</td>\n",
       "      <td>Data Scientist\\nAffinity Solutions / Marketing...</td>\n",
       "      <td>2.9</td>\n",
       "      <td>Affinity Solutions\\n2.9</td>\n",
       "      <td>New York, NY</td>\n",
       "      <td>New York, NY</td>\n",
       "      <td>51 to 200 employees</td>\n",
       "      <td>1998</td>\n",
       "      <td>Company - Private</td>\n",
       "      <td>...</td>\n",
       "      <td>114.5</td>\n",
       "      <td>Affinity Solutions\\n</td>\n",
       "      <td>NY</td>\n",
       "      <td>1</td>\n",
       "      <td>22</td>\n",
       "      <td>1</td>\n",
       "      <td>0</td>\n",
       "      <td>0</td>\n",
       "      <td>0</td>\n",
       "      <td>1</td>\n",
       "    </tr>\n",
       "  </tbody>\n",
       "</table>\n",
       "<p>5 rows × 28 columns</p>\n",
       "</div>"
      ],
      "text/plain": [
       "                   Job Title              Salary Estimate  \\\n",
       "0             Data Scientist   $53K-$91K (Glassdoor est.)   \n",
       "1  Healthcare Data Scientist  $63K-$112K (Glassdoor est.)   \n",
       "2             Data Scientist   $80K-$90K (Glassdoor est.)   \n",
       "3             Data Scientist   $56K-$97K (Glassdoor est.)   \n",
       "4             Data Scientist  $86K-$143K (Glassdoor est.)   \n",
       "\n",
       "                                     Job Description  Rating  \\\n",
       "0  Data Scientist\\nLocation: Albuquerque, NM\\nEdu...     3.8   \n",
       "1  What You Will Do:\\n\\nI. General Summary\\n\\nThe...     3.4   \n",
       "2  KnowBe4, Inc. is a high growth information sec...     4.8   \n",
       "3  *Organization and Job ID**\\nJob ID: 310709\\n\\n...     3.8   \n",
       "4  Data Scientist\\nAffinity Solutions / Marketing...     2.9   \n",
       "\n",
       "                                 Company Name         Location  \\\n",
       "0                      Tecolote Research\\n3.8  Albuquerque, NM   \n",
       "1  University of Maryland Medical System\\n3.4    Linthicum, MD   \n",
       "2                                KnowBe4\\n4.8   Clearwater, FL   \n",
       "3                                   PNNL\\n3.8     Richland, WA   \n",
       "4                     Affinity Solutions\\n2.9     New York, NY   \n",
       "\n",
       "     Headquarters                    Size  Founded   Type of ownership  ...  \\\n",
       "0      Goleta, CA   501 to 1000 employees     1973   Company - Private  ...   \n",
       "1   Baltimore, MD        10000+ employees     1984  Other Organization  ...   \n",
       "2  Clearwater, FL   501 to 1000 employees     2010   Company - Private  ...   \n",
       "3    Richland, WA  1001 to 5000 employees     1965          Government  ...   \n",
       "4    New York, NY     51 to 200 employees     1998   Company - Private  ...   \n",
       "\n",
       "  avg_salary                              company_txt job_state same_state  \\\n",
       "0       72.0                      Tecolote Research\\n        NM          0   \n",
       "1       87.5  University of Maryland Medical System\\n        MD          0   \n",
       "2       85.0                                KnowBe4\\n        FL          1   \n",
       "3       76.5                                   PNNL\\n        WA          1   \n",
       "4      114.5                     Affinity Solutions\\n        NY          1   \n",
       "\n",
       "   age  python_yn  R_yn  spark  aws excel  \n",
       "0   47          1     0      0    0     1  \n",
       "1   36          1     0      0    0     0  \n",
       "2   10          1     0      1    0     1  \n",
       "3   55          1     0      0    0     0  \n",
       "4   22          1     0      0    0     1  \n",
       "\n",
       "[5 rows x 28 columns]"
      ]
     },
     "execution_count": 51,
     "metadata": {},
     "output_type": "execute_result"
    }
   ],
   "source": [
    "df.head()"
   ]
  },
  {
   "cell_type": "markdown",
   "id": "9047e5f1cbd7fb65",
   "metadata": {
    "collapsed": false
   },
   "source": [
    "What are the unique job titles in the data?"
   ]
  },
  {
   "cell_type": "code",
   "execution_count": 52,
   "id": "1790c25245f42b60",
   "metadata": {
    "ExecuteTime": {
     "end_time": "2024-01-06T22:04:11.465463Z",
     "start_time": "2024-01-06T22:04:11.458413Z"
    },
    "collapsed": false
   },
   "outputs": [
    {
     "name": "stdout",
     "output_type": "stream",
     "text": [
      "Unique Job Titles: \n",
      "['Data Scientist' 'Healthcare Data Scientist' 'Research Scientist'\n",
      " 'Staff Data Scientist - Technology' 'Data Analyst' 'Data Engineer I'\n",
      " 'Scientist I/II, Biology' 'Customer Data Scientist'\n",
      " 'Data Scientist - Health Data Analytics'\n",
      " 'Senior Data Scientist / Machine Learning'\n",
      " 'Data Scientist - Quantitative' 'Digital Health Data Scientist'\n",
      " 'Associate Data Analyst' 'Clinical Data Scientist'\n",
      " 'Data Scientist / Machine Learning Expert' 'Web Data Analyst'\n",
      " 'Senior Data Scientist' 'Data Engineer'\n",
      " 'Data Scientist - Algorithms & Inference' 'Scientist'\n",
      " 'Lead Data Scientist' 'Spectral Scientist/Engineer'\n",
      " 'College Hire - Data Scientist - Open to December 2019 Graduates'\n",
      " 'Data Scientist, Office of Data Science' 'Data Science Analyst'\n",
      " 'Senior Risk Data Scientist'\n",
      " 'Data Scientist in Artificial Intelligence Early Career'\n",
      " 'Data Scientist - Research' 'R&D Data Analysis Scientist'\n",
      " 'Analytics Consultant' 'Director, Data Science' 'Data Scientist SR'\n",
      " 'R&D Sr Data Scientist' 'Customer Data Scientist/Sales Engineer (Bay'\n",
      " 'Jr. Business Data Analyst' 'Data Management Specialist'\n",
      " 'E-Commerce Data Analyst' 'Sr. Scientist II' 'Insurance Data Scientist'\n",
      " 'Data Modeler' 'Data Analyst / Scientist'\n",
      " 'Data Scientist, Rice University' 'Financial Data Analyst'\n",
      " 'Senior Data Analyst' 'Ag Data Scientist' 'Data Scientist II'\n",
      " 'Senior Data Engineer' 'Project Scientist' 'Data Analytics Manager'\n",
      " 'Senior Machine Learning (ML) Engineer / Data Scientist - Cyber Security Analytics'\n",
      " 'Associate Scientist' 'Scientist 2, QC Viral Vector'\n",
      " 'Machine Learning Engineer' 'Data Scientist/ML Engineer'\n",
      " 'Sr. Data Scientist' 'Data Engineer 4 - Contract'\n",
      " 'Data Analyst - Asset Management'\n",
      " 'Senior Research Scientist - Embedded System Development for DevOps'\n",
      " 'Data Scientist - Bioinformatics'\n",
      " 'Customer Data Scientist/Sales Engineer' 'MongoDB Data Engineer II'\n",
      " 'Senior Data Scientist Statistics' 'Senior Spark Engineer (Data Science)'\n",
      " 'BI & Platform Analytics Manager'\n",
      " 'Sr. Data Scientist - Analytics, Personalized Healthcare (PHC)'\n",
      " 'Pricipal Scientist Molecular and cellular biologist'\n",
      " 'Data Scientist (Actuary, FSA or ASA)' 'Staff Data Scientist'\n",
      " 'Data Engineer 5 - Contract (Remote)' 'Senior Scientist - Neuroscience'\n",
      " 'Medical Lab Scientist' 'Risk and Analytics IT, Data Scientist'\n",
      " 'Scientist, Analytical Development' 'Analytics Manager'\n",
      " 'Digital Marketing & ECommerce Data Analyst'\n",
      " 'Sr. Scientist - Digital & Image Analysis/Computational Pathology'\n",
      " 'Principal Scientist - Immunologist'\n",
      " 'Principal Data Scientist with over 10 years experience'\n",
      " 'MED TECH/LAB SCIENTIST - LABORATORY'\n",
      " 'Sr. Scientist, Quantitative Translational Sciences'\n",
      " 'Sr. Data Scientist II' 'Excel / VBA / SQL Data Analyst'\n",
      " 'Machine Learning Research Scientist' 'VP, Data Science'\n",
      " 'Radar Data Analyst' 'PL Actuarial-Lead Data Scientist' 'PV Scientist'\n",
      " 'Senior Data & Machine Learning Scientist'\n",
      " 'Principal Data Scientist (Computational Chemistry)'\n",
      " 'Principal Scientist, Chemistry & Immunology'\n",
      " 'Software Engineer - Data Visualization'\n",
      " 'Scientist/Senior Scientist, Autoimmune'\n",
      " 'Staff Machine Learning Engineer' 'Principal Scientist, Hematology'\n",
      " 'Lead Data Engineer' 'Marketing Data Analyst'\n",
      " 'Medical Laboratory Scientist' 'R&D Specialist/ Food Scientist'\n",
      " 'Senior Research Scientist-Machine Learning'\n",
      " 'Analytics Manager - Data Mart'\n",
      " 'Sr. Data Engineer - Contract-to-Hire (Java)'\n",
      " 'MED TECH/LAB SCIENTIST- SOUTH COASTAL LAB' 'Food Scientist - Developer'\n",
      " 'Staff Scientist-Downstream Process Development' 'Sr. Data Engineer'\n",
      " 'Senior Research Statistician- Data Scientist'\n",
      " 'Business Data Analyst, SQL'\n",
      " 'Medical Technologist / Clinical Laboratory Scientist'\n",
      " 'Associate Data Scientist/Computer Scientist'\n",
      " 'Business Intelligence Analyst / Developer' 'System and Data Analyst'\n",
      " 'Data & Analytics Consultant (NYC)'\n",
      " 'Big Data Engineer - Chicago - Future Opportunity' 'Survey Data Analyst'\n",
      " 'Lead Health Data Analyst - Front End' 'Junior Data Analyst'\n",
      " 'SQL Data Engineer' 'Sr. Data Scientist, Cyber-Security LT Contract'\n",
      " 'Insurance Financial Data Analyst' 'Data Engineer I - Azure'\n",
      " 'Information Security Data Analyst' 'Data Scientist, Senior'\n",
      " 'CONSULTANT– DATA ANALYTICS GROUP'\n",
      " 'Data Engineer, Data Engineering and Artifical Intelligence'\n",
      " 'Staff Scientist'\n",
      " 'Associate Scientist/Scientist, Process Analytical Technology - Small Molecule Analytical Chemistry'\n",
      " 'Sr. Data Analyst' 'Program/Data Analyst'\n",
      " 'Senior Data Scientist: Causal & Predictive analytics AI Innovation Lab'\n",
      " 'Principal Data Engineer, Data Platform & Insights'\n",
      " 'RESEARCH SCIENTIST - BIOLOGICAL SAFETY' 'Big Data Engineer'\n",
      " 'Clinical Data Analyst' 'Computational Chemist/Data Scientist'\n",
      " 'Product Engineer – Data Science' 'Market Data Analyst'\n",
      " 'Staff Data Engineer' 'Associate Data Engineer'\n",
      " 'Staff BI and Data Engineer' 'Director - Data, Privacy and AI Governance'\n",
      " 'Scientist Manufacturing - Kentucky BioProcessing'\n",
      " 'Data Analytics Project Manager' 'Consultant - Analytics Consulting'\n",
      " 'Senior Scientist (Neuroscience)'\n",
      " 'Machine Learning Engineer - Regulatory' 'Scientist, Bacteriology'\n",
      " 'Associate Director, Platform and DevOps- Data Engineering and Aritifical Intelligence'\n",
      " 'Clinical Laboratory Scientist' 'Senior Data Scientist - R&D Oncology'\n",
      " 'Director II, Data Science - GRM Actuarial'\n",
      " 'Scientist, Molecular/Cellular Biologist'\n",
      " 'Scientist - Analytical Services'\n",
      " 'Associate Data Analyst- Graduate Development Program'\n",
      " 'Senior Insurance Data Scientist' 'Senior Data Science Systems Engineer'\n",
      " 'ENVIRONMENTAL ENGINEER/SCIENTIST'\n",
      " 'Senior Scientist - Regulatory Submissions'\n",
      " 'Scientist - Biomarker and Flow Cytometry' 'Revenue Analytics Manager'\n",
      " 'Associate Scientist, LC/MS Biologics' 'Sr. Scientist Method Development'\n",
      " 'IT - Data Engineer II'\n",
      " 'Project Scientist - Auton Lab, Robotics Institute'\n",
      " 'Enterprise Architect, Data'\n",
      " 'Senior Manager, Epidemiologic Data Scientist'\n",
      " 'Corporate Risk Data Analyst (SQL Based) - Milwaukee or'\n",
      " 'Marketing Data Analyst, May 2020 Undergrad'\n",
      " 'Data Modeler - Data Solutions Engineer'\n",
      " 'Associate Environmental Scientist - Wildlife Biologist'\n",
      " 'Associate, Data Science, Internal Audit'\n",
      " 'Sr Data Engineer (Sr BI Developer)' 'Senior LiDAR Data Scientist'\n",
      " 'Salesforce Analytics Consultant'\n",
      " 'Technology-Minded, Data Professional Opportunities'\n",
      " 'Managing Data Scientist/ML Engineer' 'Scientist, Pharmacometrics'\n",
      " 'Staff Scientist- Upstream PD'\n",
      " 'Scientist Manufacturing Pharma - Kentucky BioProcessing'\n",
      " 'Lead Big Data Engineer'\n",
      " 'Product Engineer – Spatial Data Science and Statistical Analysis'\n",
      " 'Sr Software Engineer (Data Scientist)'\n",
      " 'Sr. Data Engineer (ETL Developer)'\n",
      " 'Senior Data Scientist Artificial Intelligence'\n",
      " 'Analytics - Business Assurance Data Analyst'\n",
      " 'Associate Director/Director, Safety Scientist' 'Data Analyst Senior'\n",
      " 'Lead Data Engineer (Python)'\n",
      " 'Senior Data Scientist 4 Artificial Intelligence'\n",
      " 'Medical Lab Scientist - MLT'\n",
      " 'Senior Operations Data Analyst, Call Center Operations'\n",
      " 'Director II, Data Science - GRS Predictive Analytics'\n",
      " 'RESEARCH COMPUTER SCIENTIST - RESEARCH ENGINEER - SR. COMPUTER SCIENTIST - SOFTWARE DEVELOPMENT'\n",
      " 'Geospatial Software Developer and Data Scientist'\n",
      " 'Senior Scientist - Toxicologist - Product Integrity (Stewardship)'\n",
      " 'Systems Engineer II - Data Analyst'\n",
      " 'Senior Research Analytical Scientist-Non-Targeted Analysis'\n",
      " 'Director Data Science' 'Sr Data Analyst - IT'\n",
      " 'Associate Machine Learning Engineer / Data Scientist May 2020 Undergrad'\n",
      " 'Senior Scientist - Biostatistician'\n",
      " 'Principal Machine Learning Scientist'\n",
      " 'Data Analyst, Performance Partnership' 'Data Scientist Manager'\n",
      " 'Software Data Engineer - College' 'Senior Data Scientist - Algorithms'\n",
      " 'Senior Data Scientist Oncology' 'Principal Data Scientist'\n",
      " 'Data Scientist - Alpha Insights'\n",
      " 'Associate Principal Scientist, Pharmacogenomics'\n",
      " 'Data Scientist - Systems Engineering'\n",
      " 'Data Engineer - Consultant (Charlotte Based)'\n",
      " 'Data Analyst 1, full-time contract worker for up to 12 months'\n",
      " 'Scientist, Immuno-Oncology' 'Products Data Analyst II'\n",
      " 'Lead Data Analyst' 'Data Science Engineer - Mobile'\n",
      " 'Sr Expert Data Science, Advanced Visual Analytics (Associate level)'\n",
      " 'IT Associate Data Analyst' 'Business Data Analyst'\n",
      " 'Data Scientist - Sales' 'Principal, Data Science - Advanced Analytics'\n",
      " 'Data Science Project Manager' 'Sr Scientist, Immuno-Oncology - Oncology'\n",
      " 'Research Scientist – Security and Privacy' 'Data Science Manager'\n",
      " 'Data Analyst 2 (Missionary Department)' 'Supply Chain Data Analyst'\n",
      " 'Data Engineer - ETL' 'Data Modeler (Analytical Systems)'\n",
      " 'Data Scientist in Translational Medicine'\n",
      " 'Product Manager/Data Evangelist'\n",
      " 'Senior Data Scientist – Visualization, Novartis AI Innovation Lab'\n",
      " 'Senior Data Analyst/Scientist' 'Data Engineering Analyst'\n",
      " 'Manager of Data Science'\n",
      " 'Software Engineer (Data Scientist/Software Engineer) - SISW - MG'\n",
      " 'Associate Research Scientist I (Protein Expression and Production)'\n",
      " 'Director, Precision Medicine Clinical Biomarker Scientist'\n",
      " 'Senior Formulations Scientist II' 'Senior Quantitative Analyst'\n",
      " 'Research Scientist or Senior Research Scientist - Computer Vision'\n",
      " 'Data Analyst Chemist - Quality System Contractor'\n",
      " 'Research Scientist / Principal Research Scientist - Multiphysical Systems'\n",
      " 'Research Scientist, Machine Learning Department'\n",
      " 'Foundational Community Supports Data Analyst'\n",
      " 'Senior Health Data Analyst, Star Ratings'\n",
      " 'Senior Engineer, Data Management Engineering'\n",
      " 'Quality Control Scientist III- Analytical Development'\n",
      " 'Clinical Scientist, Clinical Development'\n",
      " 'Software Engineer Staff Scientist: Human Language Technologies'\n",
      " 'Manager, Safety Scientist, Medical Safety & Risk Management'\n",
      " 'Assistant Director/Director, Office of Data Science'\n",
      " 'Sr. Data Engineer | Big Data SaaS Pipeline'\n",
      " 'Scientist - CVRM Metabolism - in vivo pharmacology'\n",
      " 'Data Scientist (Warehouse Automation)' 'Jr. Data Scientist'\n",
      " 'Data Architect / Data Modeler'\n",
      " 'Associate Scientist / Sr. Associate Scientist, Antibody Discovery'\n",
      " 'Machine Learning Engineer (NLP)']\n"
     ]
    }
   ],
   "source": [
    "unique_job_titles = df['Job Title'].unique()\n",
    "print(\"Unique Job Titles: \")\n",
    "print(unique_job_titles)"
   ]
  },
  {
   "cell_type": "code",
   "execution_count": 53,
   "id": "c2e34b4795e4b9c9",
   "metadata": {
    "ExecuteTime": {
     "end_time": "2024-01-06T22:04:11.605585Z",
     "start_time": "2024-01-06T22:04:11.484675Z"
    },
    "collapsed": false
   },
   "outputs": [
    {
     "data": {
      "image/png": "[encoded data removed]",
      "text/plain": [
       "<Figure size 720x432 with 1 Axes>"
      ]
     },
     "metadata": {
      "needs_background": "light"
     },
     "output_type": "display_data"
    }
   ],
   "source": [
    "# Plotting\n",
    "# Count the number of occurrences of each job title\n",
    "job_title_counts = df['Job Title'].value_counts()\n",
    "\n",
    "# Plot the top 10 job titles\n",
    "plt.figure(figsize=(10, 6))\n",
    "sns.barplot(x=job_title_counts.head(10), y=job_title_counts.head(10).index, orient='h')\n",
    "plt.title('Top 10 Job Titles')\n",
    "plt.xlabel('Count')\n",
    "plt.ylabel('Job Title')\n",
    "plt.show()"
   ]
  },
  {
   "cell_type": "markdown",
   "id": "ed29ba9aca757b63",
   "metadata": {
    "collapsed": false
   },
   "source": [
    "What are the different types of ownership and their counts?"
   ]
  },
  {
   "cell_type": "code",
   "execution_count": 54,
   "id": "460fdbdf396b7f8e",
   "metadata": {
    "ExecuteTime": {
     "end_time": "2024-01-06T22:04:11.610713Z",
     "start_time": "2024-01-06T22:04:11.601958Z"
    },
    "collapsed": false
   },
   "outputs": [
    {
     "name": "stdout",
     "output_type": "stream",
     "text": [
      "Ownership Types and Counts:\n",
      "Type of ownership\n",
      "Company - Private                 402\n",
      "Company - Public                  193\n",
      "Nonprofit Organization             54\n",
      "Subsidiary or Business Segment     34\n",
      "Government                         15\n",
      "Hospital                           15\n",
      "College / University               13\n",
      "Other Organization                  3\n",
      "School / School District            2\n",
      "Unknown                             1\n",
      "Name: count, dtype: int64\n"
     ]
    }
   ],
   "source": [
    "ownership_counts = df['Type of ownership'].value_counts()\n",
    "print(\"Ownership Types and Counts:\")\n",
    "print(ownership_counts)"
   ]
  },
  {
   "cell_type": "markdown",
   "id": "a30d63ec593b8628",
   "metadata": {
    "collapsed": false
   },
   "source": [
    "What are the top five industries with the most job listings?"
   ]
  },
  {
   "cell_type": "code",
   "execution_count": 55,
   "id": "1972bcc125f9292a",
   "metadata": {
    "ExecuteTime": {
     "end_time": "2024-01-06T22:04:11.612052Z",
     "start_time": "2024-01-06T22:04:11.609271Z"
    },
    "collapsed": false
   },
   "outputs": [
    {
     "name": "stdout",
     "output_type": "stream",
     "text": [
      "Top 5 Industries with the Most Job Listings:\n",
      "Industry\n",
      "Biotech & Pharmaceuticals           112\n",
      "Insurance Carriers                   63\n",
      "Computer Hardware & Software         59\n",
      "IT Services                          50\n",
      "Health Care Services & Hospitals     49\n",
      "Name: count, dtype: int64\n"
     ]
    }
   ],
   "source": [
    "top_industries = df['Industry'].value_counts().head(5)\n",
    "print(\"Top 5 Industries with the Most Job Listings:\")\n",
    "print(top_industries)"
   ]
  },
  {
   "cell_type": "markdown",
   "id": "2fca423ccc7a6ab1",
   "metadata": {
    "collapsed": false
   },
   "source": [
    "Which sector has the highest average rating for companies?"
   ]
  },
  {
   "cell_type": "code",
   "execution_count": 56,
   "id": "930e9477d907b923",
   "metadata": {
    "ExecuteTime": {
     "end_time": "2024-01-06T22:04:11.621470Z",
     "start_time": "2024-01-06T22:04:11.615072Z"
    },
    "collapsed": false
   },
   "outputs": [
    {
     "name": "stdout",
     "output_type": "stream",
     "text": [
      "Sector with Highest Average Rating: Agriculture & Forestry\n",
      "Highest Average Rating: 4.60\n"
     ]
    }
   ],
   "source": [
    "highest_rated_sector = df.groupby('Sector')['Rating'].mean().idxmax()\n",
    "print(\"Sector with Highest Average Rating:\", highest_rated_sector)\n",
    "\n",
    "highest_avg_rating = df.groupby('Sector')['Rating'].mean().max()\n",
    "print(f\"Highest Average Rating: {highest_avg_rating:.2f}\")"
   ]
  },
  {
   "cell_type": "code",
   "execution_count": 57,
   "id": "7a038bc0f9b50cce",
   "metadata": {
    "ExecuteTime": {
     "end_time": "2024-01-06T22:04:11.769630Z",
     "start_time": "2024-01-06T22:04:11.621974Z"
    },
    "collapsed": false
   },
   "outputs": [
    {
     "data": {
      "image/png": "[encoded data removed]",
      "text/plain": [
       "<Figure size 864x576 with 1 Axes>"
      ]
     },
     "metadata": {
      "needs_background": "light"
     },
     "output_type": "display_data"
    }
   ],
   "source": [
    "# Plotting\n",
    "plt.figure(figsize=(12, 8))\n",
    "df.groupby('Sector')['Rating'].mean().sort_values(ascending=False).plot(kind='bar', color='skyblue')\n",
    "plt.title('Average Ratings by Sector')\n",
    "plt.xlabel('Sector')\n",
    "plt.ylabel('Average Rating')\n",
    "plt.show()"
   ]
  },
  {
   "cell_type": "markdown",
   "id": "82f1dbeb0789ae2d",
   "metadata": {
    "collapsed": false
   },
   "source": [
    "How is the revenue distributed among the companies?"
   ]
  },
  {
   "cell_type": "code",
   "execution_count": 58,
   "id": "d771f8fabcf02ec0",
   "metadata": {
    "ExecuteTime": {
     "end_time": "2024-01-06T22:04:11.776997Z",
     "start_time": "2024-01-06T22:04:11.772259Z"
    },
    "collapsed": false
   },
   "outputs": [
    {
     "name": "stdout",
     "output_type": "stream",
     "text": [
      "Revenue Distribution:\n",
      "Revenue\n",
      "Unknown / Non-Applicable            195\n",
      "$10+ billion (USD)                  124\n",
      "$100 to $500 million (USD)           91\n",
      "$1 to $2 billion (USD)               60\n",
      "$500 million to $1 billion (USD)     57\n",
      "$50 to $100 million (USD)            46\n",
      "$25 to $50 million (USD)             40\n",
      "$2 to $5 billion (USD)               39\n",
      "$10 to $25 million (USD)             32\n",
      "$5 to $10 billion (USD)              19\n",
      "$5 to $10 million (USD)              18\n",
      "$1 to $5 million (USD)                8\n",
      "Less than $1 million (USD)            3\n",
      "Name: count, dtype: int64\n"
     ]
    }
   ],
   "source": [
    "revenue_distribution = df['Revenue'].value_counts()\n",
    "print(\"Revenue Distribution:\")\n",
    "print(revenue_distribution)"
   ]
  },
  {
   "cell_type": "markdown",
   "id": "bc633f581cfe4b13",
   "metadata": {
    "collapsed": false
   },
   "source": [
    "What is top 10 locations with the most job listing?"
   ]
  },
  {
   "cell_type": "code",
   "execution_count": 59,
   "id": "9ebf2b7d8faa4dc4",
   "metadata": {
    "ExecuteTime": {
     "end_time": "2024-01-06T22:04:11.781132Z",
     "start_time": "2024-01-06T22:04:11.777248Z"
    },
    "collapsed": false
   },
   "outputs": [
    {
     "name": "stdout",
     "output_type": "stream",
     "text": [
      "Top 5 Locations with the Most Job Listings:\n",
      "Location\n",
      "New York, NY         54\n",
      "San Francisco, CA    48\n",
      "Cambridge, MA        40\n",
      "Chicago, IL          32\n",
      "Boston, MA           23\n",
      "San Jose, CA         13\n",
      "Pittsburgh, PA       12\n",
      "Washington, DC       11\n",
      "Rockville, MD        11\n",
      "Winston-Salem, NC    10\n",
      "Name: count, dtype: int64\n"
     ]
    }
   ],
   "source": [
    "top_locations = df['Location'].value_counts().head(10)\n",
    "print(\"Top 5 Locations with the Most Job Listings:\")\n",
    "print(top_locations)"
   ]
  },
  {
   "cell_type": "code",
   "execution_count": null,
   "metadata": {},
   "outputs": [],
   "source": []
  }
 ],
 "metadata": {
  "kernelspec": {
   "display_name": "Python 3",
   "language": "python",
   "name": "python3"
  },
  "language_info": {
   "codemirror_mode": {
    "name": "ipython",
    "version": 2
   },
   "file_extension": ".py",
   "mimetype": "text/x-python",
   "name": "python",
   "nbconvert_exporter": "python",
   "pygments_lexer": "ipython2",
   "version": "2.7.6"
  }
 },
 "nbformat": 4,
 "nbformat_minor": 5
}
