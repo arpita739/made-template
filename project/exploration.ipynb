{
 "cells": [
  {
   "cell_type": "markdown",
   "id": "70e0f77d",
   "metadata": {},
   "source": [
    "# Data Exploration"
   ]
  },
  {
   "cell_type": "markdown",
   "id": "70b73520",
   "metadata": {},
   "source": [
    "This method describes step by step method of exploring the dataset"
   ]
  },
  {
   "cell_type": "markdown",
   "id": "cf1114e7",
   "metadata": {},
   "source": [
    "Install Dependencies"
   ]
  },
  {
   "cell_type": "code",
   "execution_count": 42,
   "id": "5d27b0b9",
   "metadata": {
    "ExecuteTime": {
     "end_time": "2024-01-06T21:52:11.761139Z",
     "start_time": "2024-01-06T21:52:07.046044Z"
    }
   },
   "outputs": [
    {
     "name": "stdout",
     "output_type": "stream",
     "text": [
      "Requirement already satisfied: pandas in /Users/arpitahalder/opt/anaconda3/envs/tensorflow/lib/python3.8/site-packages (2.0.3)\r\n",
      "Requirement already satisfied: python-dateutil>=2.8.2 in /Users/arpitahalder/opt/anaconda3/envs/tensorflow/lib/python3.8/site-packages (from pandas) (2.8.2)\r\n",
      "Requirement already satisfied: numpy>=1.20.3 in /Users/arpitahalder/opt/anaconda3/envs/tensorflow/lib/python3.8/site-packages (from pandas) (1.24.4)\r\n",
      "Requirement already satisfied: pytz>=2020.1 in /Users/arpitahalder/opt/anaconda3/envs/tensorflow/lib/python3.8/site-packages (from pandas) (2021.1)\r\n",
      "Requirement already satisfied: tzdata>=2022.1 in /Users/arpitahalder/opt/anaconda3/envs/tensorflow/lib/python3.8/site-packages (from pandas) (2023.3)\r\n",
      "Requirement already satisfied: six>=1.5 in /Users/arpitahalder/opt/anaconda3/envs/tensorflow/lib/python3.8/site-packages (from python-dateutil>=2.8.2->pandas) (1.16.0)\r\n",
      "Note: you may need to restart the kernel to use updated packages.\n",
      "Requirement already satisfied: SQLAlchemy==1.4.46 in /Users/arpitahalder/opt/anaconda3/envs/tensorflow/lib/python3.8/site-packages (1.4.46)\r\n",
      "Requirement already satisfied: greenlet!=0.4.17 in /Users/arpitahalder/opt/anaconda3/envs/tensorflow/lib/python3.8/site-packages (from SQLAlchemy==1.4.46) (3.0.3)\r\n",
      "Note: you may need to restart the kernel to use updated packages.\n",
      "Requirement already satisfied: matplotlib in /Users/arpitahalder/opt/anaconda3/envs/tensorflow/lib/python3.8/site-packages (3.5.2)\r\n",
      "Requirement already satisfied: pyparsing>=2.2.1 in /Users/arpitahalder/opt/anaconda3/envs/tensorflow/lib/python3.8/site-packages (from matplotlib) (3.0.9)\r\n",
      "Requirement already satisfied: packaging>=20.0 in /Users/arpitahalder/opt/anaconda3/envs/tensorflow/lib/python3.8/site-packages (from matplotlib) (21.3)\r\n",
      "Requirement already satisfied: cycler>=0.10 in /Users/arpitahalder/opt/anaconda3/envs/tensorflow/lib/python3.8/site-packages (from matplotlib) (0.11.0)\r\n",
      "Requirement already satisfied: fonttools>=4.22.0 in /Users/arpitahalder/opt/anaconda3/envs/tensorflow/lib/python3.8/site-packages (from matplotlib) (4.29.1)\r\n",
      "Requirement already satisfied: pillow>=6.2.0 in /Users/arpitahalder/opt/anaconda3/envs/tensorflow/lib/python3.8/site-packages (from matplotlib) (9.2.0)\r\n",
      "Requirement already satisfied: python-dateutil>=2.7 in /Users/arpitahalder/opt/anaconda3/envs/tensorflow/lib/python3.8/site-packages (from matplotlib) (2.8.2)\r\n",
      "Requirement already satisfied: numpy>=1.17 in /Users/arpitahalder/opt/anaconda3/envs/tensorflow/lib/python3.8/site-packages (from matplotlib) (1.24.4)\r\n",
      "Requirement already satisfied: kiwisolver>=1.0.1 in /Users/arpitahalder/opt/anaconda3/envs/tensorflow/lib/python3.8/site-packages (from matplotlib) (1.4.2)\r\n",
      "Requirement already satisfied: six>=1.5 in /Users/arpitahalder/opt/anaconda3/envs/tensorflow/lib/python3.8/site-packages (from python-dateutil>=2.7->matplotlib) (1.16.0)\r\n",
      "Note: you may need to restart the kernel to use updated packages.\n"
     ]
    }
   ],
   "source": [
    "%pip install pandas\n",
    "%pip install SQLAlchemy==1.4.46\n",
    "%pip install matplotlib"
   ]
  },
  {
   "cell_type": "code",
   "execution_count": 43,
   "id": "9faee9bb",
   "metadata": {
    "ExecuteTime": {
     "end_time": "2024-01-06T21:52:11.803940Z",
     "start_time": "2024-01-06T21:52:11.767643Z"
    }
   },
   "outputs": [],
   "source": [
    "import pandas as pd\n",
    "\n",
    "# Read the table Salary into a Pandas dataframe\n",
    "df = pd.read_sql_table('clean_salary', 'sqlite:///../data/clean_salary.sqlite')\n"
   ]
  },
  {
   "cell_type": "code",
   "execution_count": 44,
   "id": "dd7c8c09",
   "metadata": {
    "ExecuteTime": {
     "end_time": "2024-01-06T21:52:11.817389Z",
     "start_time": "2024-01-06T21:52:11.806229Z"
    }
   },
   "outputs": [
    {
     "data": {
      "text/plain": "                   Job Title              Salary Estimate  \\\n0             Data Scientist   $53K-$91K (Glassdoor est.)   \n1  Healthcare Data Scientist  $63K-$112K (Glassdoor est.)   \n2             Data Scientist   $80K-$90K (Glassdoor est.)   \n3             Data Scientist   $56K-$97K (Glassdoor est.)   \n4             Data Scientist  $86K-$143K (Glassdoor est.)   \n\n                                     Job Description  Rating  \\\n0  Data Scientist\\nLocation: Albuquerque, NM\\nEdu...     3.8   \n1  What You Will Do:\\n\\nI. General Summary\\n\\nThe...     3.4   \n2  KnowBe4, Inc. is a high growth information sec...     4.8   \n3  *Organization and Job ID**\\nJob ID: 310709\\n\\n...     3.8   \n4  Data Scientist\\nAffinity Solutions / Marketing...     2.9   \n\n                                 Company Name         Location  \\\n0                      Tecolote Research\\n3.8  Albuquerque, NM   \n1  University of Maryland Medical System\\n3.4    Linthicum, MD   \n2                                KnowBe4\\n4.8   Clearwater, FL   \n3                                   PNNL\\n3.8     Richland, WA   \n4                     Affinity Solutions\\n2.9     New York, NY   \n\n     Headquarters                    Size  Founded   Type of ownership  ...  \\\n0      Goleta, CA   501 to 1000 employees     1973   Company - Private  ...   \n1   Baltimore, MD        10000+ employees     1984  Other Organization  ...   \n2  Clearwater, FL   501 to 1000 employees     2010   Company - Private  ...   \n3    Richland, WA  1001 to 5000 employees     1965          Government  ...   \n4    New York, NY     51 to 200 employees     1998   Company - Private  ...   \n\n  avg_salary                              company_txt job_state same_state  \\\n0       72.0                      Tecolote Research\\n        NM          0   \n1       87.5  University of Maryland Medical System\\n        MD          0   \n2       85.0                                KnowBe4\\n        FL          1   \n3       76.5                                   PNNL\\n        WA          1   \n4      114.5                     Affinity Solutions\\n        NY          1   \n\n   age  python_yn  R_yn  spark  aws excel  \n0   47          1     0      0    0     1  \n1   36          1     0      0    0     0  \n2   10          1     0      1    0     1  \n3   55          1     0      0    0     0  \n4   22          1     0      0    0     1  \n\n[5 rows x 28 columns]",
      "text/html": "<div>\n<style scoped>\n    .dataframe tbody tr th:only-of-type {\n        vertical-align: middle;\n    }\n\n    .dataframe tbody tr th {\n        vertical-align: top;\n    }\n\n    .dataframe thead th {\n        text-align: right;\n    }\n</style>\n<table border=\"1\" class=\"dataframe\">\n  <thead>\n    <tr style=\"text-align: right;\">\n      <th></th>\n      <th>Job Title</th>\n      <th>Salary Estimate</th>\n      <th>Job Description</th>\n      <th>Rating</th>\n      <th>Company Name</th>\n      <th>Location</th>\n      <th>Headquarters</th>\n      <th>Size</th>\n      <th>Founded</th>\n      <th>Type of ownership</th>\n      <th>...</th>\n      <th>avg_salary</th>\n      <th>company_txt</th>\n      <th>job_state</th>\n      <th>same_state</th>\n      <th>age</th>\n      <th>python_yn</th>\n      <th>R_yn</th>\n      <th>spark</th>\n      <th>aws</th>\n      <th>excel</th>\n    </tr>\n  </thead>\n  <tbody>\n    <tr>\n      <th>0</th>\n      <td>Data Scientist</td>\n      <td>$53K-$91K (Glassdoor est.)</td>\n      <td>Data Scientist\\nLocation: Albuquerque, NM\\nEdu...</td>\n      <td>3.8</td>\n      <td>Tecolote Research\\n3.8</td>\n      <td>Albuquerque, NM</td>\n      <td>Goleta, CA</td>\n      <td>501 to 1000 employees</td>\n      <td>1973</td>\n      <td>Company - Private</td>\n      <td>...</td>\n      <td>72.0</td>\n      <td>Tecolote Research\\n</td>\n      <td>NM</td>\n      <td>0</td>\n      <td>47</td>\n      <td>1</td>\n      <td>0</td>\n      <td>0</td>\n      <td>0</td>\n      <td>1</td>\n    </tr>\n    <tr>\n      <th>1</th>\n      <td>Healthcare Data Scientist</td>\n      <td>$63K-$112K (Glassdoor est.)</td>\n      <td>What You Will Do:\\n\\nI. General Summary\\n\\nThe...</td>\n      <td>3.4</td>\n      <td>University of Maryland Medical System\\n3.4</td>\n      <td>Linthicum, MD</td>\n      <td>Baltimore, MD</td>\n      <td>10000+ employees</td>\n      <td>1984</td>\n      <td>Other Organization</td>\n      <td>...</td>\n      <td>87.5</td>\n      <td>University of Maryland Medical System\\n</td>\n      <td>MD</td>\n      <td>0</td>\n      <td>36</td>\n      <td>1</td>\n      <td>0</td>\n      <td>0</td>\n      <td>0</td>\n      <td>0</td>\n    </tr>\n    <tr>\n      <th>2</th>\n      <td>Data Scientist</td>\n      <td>$80K-$90K (Glassdoor est.)</td>\n      <td>KnowBe4, Inc. is a high growth information sec...</td>\n      <td>4.8</td>\n      <td>KnowBe4\\n4.8</td>\n      <td>Clearwater, FL</td>\n      <td>Clearwater, FL</td>\n      <td>501 to 1000 employees</td>\n      <td>2010</td>\n      <td>Company - Private</td>\n      <td>...</td>\n      <td>85.0</td>\n      <td>KnowBe4\\n</td>\n      <td>FL</td>\n      <td>1</td>\n      <td>10</td>\n      <td>1</td>\n      <td>0</td>\n      <td>1</td>\n      <td>0</td>\n      <td>1</td>\n    </tr>\n    <tr>\n      <th>3</th>\n      <td>Data Scientist</td>\n      <td>$56K-$97K (Glassdoor est.)</td>\n      <td>*Organization and Job ID**\\nJob ID: 310709\\n\\n...</td>\n      <td>3.8</td>\n      <td>PNNL\\n3.8</td>\n      <td>Richland, WA</td>\n      <td>Richland, WA</td>\n      <td>1001 to 5000 employees</td>\n      <td>1965</td>\n      <td>Government</td>\n      <td>...</td>\n      <td>76.5</td>\n      <td>PNNL\\n</td>\n      <td>WA</td>\n      <td>1</td>\n      <td>55</td>\n      <td>1</td>\n      <td>0</td>\n      <td>0</td>\n      <td>0</td>\n      <td>0</td>\n    </tr>\n    <tr>\n      <th>4</th>\n      <td>Data Scientist</td>\n      <td>$86K-$143K (Glassdoor est.)</td>\n      <td>Data Scientist\\nAffinity Solutions / Marketing...</td>\n      <td>2.9</td>\n      <td>Affinity Solutions\\n2.9</td>\n      <td>New York, NY</td>\n      <td>New York, NY</td>\n      <td>51 to 200 employees</td>\n      <td>1998</td>\n      <td>Company - Private</td>\n      <td>...</td>\n      <td>114.5</td>\n      <td>Affinity Solutions\\n</td>\n      <td>NY</td>\n      <td>1</td>\n      <td>22</td>\n      <td>1</td>\n      <td>0</td>\n      <td>0</td>\n      <td>0</td>\n      <td>1</td>\n    </tr>\n  </tbody>\n</table>\n<p>5 rows × 28 columns</p>\n</div>"
     },
     "execution_count": 44,
     "metadata": {},
     "output_type": "execute_result"
    }
   ],
   "source": [
    "# Print the first few rows of the dataframe\n",
    "df.head()"
   ]
  },
  {
   "cell_type": "markdown",
   "source": [
    "Checking missing value"
   ],
   "metadata": {
    "collapsed": false
   },
   "id": "a007e9648e168f7a"
  },
  {
   "cell_type": "code",
   "execution_count": 45,
   "outputs": [
    {
     "data": {
      "text/plain": "Job Title            0\nSalary Estimate      0\nJob Description      0\nRating               0\nCompany Name         0\nLocation             0\nHeadquarters         0\nSize                 0\nFounded              0\nType of ownership    0\nIndustry             0\nSector               0\nRevenue              0\nCompetitors          0\nhourly               0\nemployer_provided    0\nmin_salary           0\nmax_salary           0\navg_salary           0\ncompany_txt          0\njob_state            0\nsame_state           0\nage                  0\npython_yn            0\nR_yn                 0\nspark                0\naws                  0\nexcel                0\ndtype: int64"
     },
     "execution_count": 45,
     "metadata": {},
     "output_type": "execute_result"
    }
   ],
   "source": [
    "df.isnull().sum()"
   ],
   "metadata": {
    "collapsed": false,
    "ExecuteTime": {
     "end_time": "2024-01-06T21:52:11.823222Z",
     "start_time": "2024-01-06T21:52:11.820453Z"
    }
   },
   "id": "f315e53f15087472"
  },
  {
   "cell_type": "code",
   "execution_count": 46,
   "outputs": [
    {
     "data": {
      "text/plain": "(741, 28)"
     },
     "execution_count": 46,
     "metadata": {},
     "output_type": "execute_result"
    }
   ],
   "source": [
    "df.shape"
   ],
   "metadata": {
    "collapsed": false,
    "ExecuteTime": {
     "end_time": "2024-01-06T21:56:31.624779Z",
     "start_time": "2024-01-06T21:56:31.616877Z"
    }
   },
   "id": "b0fa113e84e717f2"
  },
  {
   "cell_type": "markdown",
   "source": [
    "Total rows: 741\n",
    "Total columns: 28"
   ],
   "metadata": {
    "collapsed": false
   },
   "id": "8edc0734e9033149"
  },
  {
   "cell_type": "code",
   "execution_count": 47,
   "outputs": [
    {
     "name": "stdout",
     "output_type": "stream",
     "text": [
      "          Column Name Data Type\n",
      "0           Job Title    object\n",
      "1     Salary Estimate    object\n",
      "2     Job Description    object\n",
      "3              Rating   float64\n",
      "4        Company Name    object\n",
      "5            Location    object\n",
      "6        Headquarters    object\n",
      "7                Size    object\n",
      "8             Founded     int64\n",
      "9   Type of ownership    object\n",
      "10           Industry    object\n",
      "11             Sector    object\n",
      "12            Revenue    object\n",
      "13        Competitors    object\n",
      "14             hourly     int64\n",
      "15  employer_provided     int64\n",
      "16         min_salary     int64\n",
      "17         max_salary     int64\n",
      "18         avg_salary   float64\n",
      "19        company_txt    object\n",
      "20          job_state    object\n",
      "21         same_state     int64\n",
      "22                age     int64\n",
      "23          python_yn     int64\n",
      "24               R_yn     int64\n",
      "25              spark     int64\n",
      "26                aws     int64\n",
      "27              excel     int64\n"
     ]
    }
   ],
   "source": [
    "def get_info(df):\n",
    "    column_info = df.dtypes.reset_index()\n",
    "    column_info.columns = ['Column Name', 'Data Type']\n",
    "    return column_info\n",
    "df_info = get_info(df)\n",
    "print(df_info)"
   ],
   "metadata": {
    "collapsed": false,
    "ExecuteTime": {
     "end_time": "2024-01-06T22:00:51.694942Z",
     "start_time": "2024-01-06T22:00:51.691445Z"
    }
   },
   "id": "4eb6d9adb2282138"
  },
  {
   "cell_type": "code",
   "execution_count": null,
   "outputs": [],
   "source": [],
   "metadata": {
    "collapsed": false
   },
   "id": "942c051274138afe"
  }
 ],
 "metadata": {
  "kernelspec": {
   "display_name": "Python 3 (ipykernel)",
   "language": "python",
   "name": "python3"
  },
  "language_info": {
   "codemirror_mode": {
    "name": "ipython",
    "version": 3
   },
   "file_extension": ".py",
   "mimetype": "text/x-python",
   "name": "python",
   "nbconvert_exporter": "python",
   "pygments_lexer": "ipython3",
   "version": "3.11.5"
  }
 },
 "nbformat": 4,
 "nbformat_minor": 5
}
