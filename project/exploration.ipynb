{
 "cells": [
  {
   "cell_type": "markdown",
   "id": "70e0f77d",
   "metadata": {},
   "source": [
    "# Data Exploration"
   ]
  },
  {
   "cell_type": "markdown",
   "id": "70b73520",
   "metadata": {},
   "source": [
    "This method describes step by step method of exploring the dataset"
   ]
  },
  {
   "cell_type": "markdown",
   "id": "cf1114e7",
   "metadata": {},
   "source": [
    "Install Dependencies"
   ]
  },
  {
   "cell_type": "code",
   "execution_count": 1,
   "id": "5d27b0b9",
   "metadata": {
    "ExecuteTime": {
     "end_time": "2024-01-10T00:00:55.492730Z",
     "start_time": "2024-01-10T00:00:51.712861Z"
    }
   },
   "outputs": [
    {
     "name": "stdout",
     "output_type": "stream",
     "text": [
      "Requirement already satisfied: pandas in /Users/arpitahalder/opt/anaconda3/envs/saki/lib/python3.11/site-packages (1.5.3)\r\n",
      "Requirement already satisfied: python-dateutil>=2.8.1 in /Users/arpitahalder/opt/anaconda3/envs/saki/lib/python3.11/site-packages (from pandas) (2.8.2)\r\n",
      "Requirement already satisfied: pytz>=2020.1 in /Users/arpitahalder/opt/anaconda3/envs/saki/lib/python3.11/site-packages (from pandas) (2023.3.post1)\r\n",
      "Requirement already satisfied: numpy>=1.21.0 in /Users/arpitahalder/opt/anaconda3/envs/saki/lib/python3.11/site-packages (from pandas) (1.24.2)\r\n",
      "Requirement already satisfied: six>=1.5 in /Users/arpitahalder/opt/anaconda3/envs/saki/lib/python3.11/site-packages (from python-dateutil>=2.8.1->pandas) (1.16.0)\r\n",
      "Note: you may need to restart the kernel to use updated packages.\n",
      "Requirement already satisfied: SQLAlchemy==1.4.46 in /Users/arpitahalder/opt/anaconda3/envs/saki/lib/python3.11/site-packages (1.4.46)\r\n",
      "Requirement already satisfied: greenlet!=0.4.17 in /Users/arpitahalder/opt/anaconda3/envs/saki/lib/python3.11/site-packages (from SQLAlchemy==1.4.46) (2.0.2)\r\n",
      "Note: you may need to restart the kernel to use updated packages.\n",
      "Requirement already satisfied: matplotlib in /Users/arpitahalder/opt/anaconda3/envs/saki/lib/python3.11/site-packages (3.8.2)\r\n",
      "Requirement already satisfied: contourpy>=1.0.1 in /Users/arpitahalder/opt/anaconda3/envs/saki/lib/python3.11/site-packages (from matplotlib) (1.2.0)\r\n",
      "Requirement already satisfied: cycler>=0.10 in /Users/arpitahalder/opt/anaconda3/envs/saki/lib/python3.11/site-packages (from matplotlib) (0.12.1)\r\n",
      "Requirement already satisfied: fonttools>=4.22.0 in /Users/arpitahalder/opt/anaconda3/envs/saki/lib/python3.11/site-packages (from matplotlib) (4.47.0)\r\n",
      "Requirement already satisfied: kiwisolver>=1.3.1 in /Users/arpitahalder/opt/anaconda3/envs/saki/lib/python3.11/site-packages (from matplotlib) (1.4.5)\r\n",
      "Requirement already satisfied: numpy<2,>=1.21 in /Users/arpitahalder/opt/anaconda3/envs/saki/lib/python3.11/site-packages (from matplotlib) (1.24.2)\r\n",
      "Requirement already satisfied: packaging>=20.0 in /Users/arpitahalder/opt/anaconda3/envs/saki/lib/python3.11/site-packages (from matplotlib) (23.1)\r\n",
      "Requirement already satisfied: pillow>=8 in /Users/arpitahalder/opt/anaconda3/envs/saki/lib/python3.11/site-packages (from matplotlib) (10.2.0)\r\n",
      "Requirement already satisfied: pyparsing>=2.3.1 in /Users/arpitahalder/opt/anaconda3/envs/saki/lib/python3.11/site-packages (from matplotlib) (3.1.1)\r\n",
      "Requirement already satisfied: python-dateutil>=2.7 in /Users/arpitahalder/opt/anaconda3/envs/saki/lib/python3.11/site-packages (from matplotlib) (2.8.2)\r\n",
      "Requirement already satisfied: six>=1.5 in /Users/arpitahalder/opt/anaconda3/envs/saki/lib/python3.11/site-packages (from python-dateutil>=2.7->matplotlib) (1.16.0)\r\n",
      "Note: you may need to restart the kernel to use updated packages.\n"
     ]
    }
   ],
   "source": [
    "%pip install pandas\n",
    "%pip install SQLAlchemy==1.4.46\n",
    "%pip install matplotlib"
   ]
  },
  {
   "cell_type": "code",
   "execution_count": 2,
   "id": "9faee9bb",
   "metadata": {
    "ExecuteTime": {
     "end_time": "2024-01-10T00:00:56.080252Z",
     "start_time": "2024-01-10T00:00:55.496981Z"
    }
   },
   "outputs": [],
   "source": [
    "import pandas as pd\n",
    "\n",
    "# Read the table Salary into a Pandas dataframe\n",
    "df = pd.read_sql_table('clean_salary', 'sqlite:///../data/clean_salary.sqlite')\n"
   ]
  },
  {
   "cell_type": "code",
   "execution_count": 3,
   "id": "dd7c8c09",
   "metadata": {
    "ExecuteTime": {
     "end_time": "2024-01-10T00:00:56.097077Z",
     "start_time": "2024-01-10T00:00:56.080391Z"
    }
   },
   "outputs": [
    {
     "data": {
      "text/plain": "                   Job Title              Salary Estimate  \\\n0             Data Scientist   $53K-$91K (Glassdoor est.)   \n1  Healthcare Data Scientist  $63K-$112K (Glassdoor est.)   \n2             Data Scientist   $80K-$90K (Glassdoor est.)   \n3             Data Scientist   $56K-$97K (Glassdoor est.)   \n4             Data Scientist  $86K-$143K (Glassdoor est.)   \n\n                                     Job Description  Rating         Location  \\\n0  Data Scientist\\nLocation: Albuquerque, NM\\nEdu...     3.8  Albuquerque, NM   \n1  What You Will Do:\\n\\nI. General Summary\\n\\nThe...     3.4    Linthicum, MD   \n2  KnowBe4, Inc. is a high growth information sec...     4.8   Clearwater, FL   \n3  *Organization and Job ID**\\nJob ID: 310709\\n\\n...     3.8     Richland, WA   \n4  Data Scientist\\nAffinity Solutions / Marketing...     2.9     New York, NY   \n\n     Headquarters                    Size  Founded   Type of ownership  \\\n0      Goleta, CA   501 to 1000 employees     1973   Company - Private   \n1   Baltimore, MD        10000+ employees     1984  Other Organization   \n2  Clearwater, FL   501 to 1000 employees     2010   Company - Private   \n3    Richland, WA  1001 to 5000 employees     1965          Government   \n4    New York, NY     51 to 200 employees     1998   Company - Private   \n\n                           Industry  ...  \\\n0               Aerospace & Defense  ...   \n1  Health Care Services & Hospitals  ...   \n2                 Security Services  ...   \n3                            Energy  ...   \n4           Advertising & Marketing  ...   \n\n                               company_txt job_state same_state  age  \\\n0                      Tecolote Research\\n        NM          0   47   \n1  University of Maryland Medical System\\n        MD          0   36   \n2                                KnowBe4\\n        FL          1   10   \n3                                   PNNL\\n        WA          1   55   \n4                     Affinity Solutions\\n        NY          1   22   \n\n   python_yn  R_yn  spark  aws excel                                company  \n0          1     0      0    0     1                      Tecolote Research  \n1          1     0      0    0     0  University of Maryland Medical System  \n2          1     0      1    0     1                                KnowBe4  \n3          1     0      0    0     0                                   PNNL  \n4          1     0      0    0     1                     Affinity Solutions  \n\n[5 rows x 28 columns]",
      "text/html": "<div>\n<style scoped>\n    .dataframe tbody tr th:only-of-type {\n        vertical-align: middle;\n    }\n\n    .dataframe tbody tr th {\n        vertical-align: top;\n    }\n\n    .dataframe thead th {\n        text-align: right;\n    }\n</style>\n<table border=\"1\" class=\"dataframe\">\n  <thead>\n    <tr style=\"text-align: right;\">\n      <th></th>\n      <th>Job Title</th>\n      <th>Salary Estimate</th>\n      <th>Job Description</th>\n      <th>Rating</th>\n      <th>Location</th>\n      <th>Headquarters</th>\n      <th>Size</th>\n      <th>Founded</th>\n      <th>Type of ownership</th>\n      <th>Industry</th>\n      <th>...</th>\n      <th>company_txt</th>\n      <th>job_state</th>\n      <th>same_state</th>\n      <th>age</th>\n      <th>python_yn</th>\n      <th>R_yn</th>\n      <th>spark</th>\n      <th>aws</th>\n      <th>excel</th>\n      <th>company</th>\n    </tr>\n  </thead>\n  <tbody>\n    <tr>\n      <th>0</th>\n      <td>Data Scientist</td>\n      <td>$53K-$91K (Glassdoor est.)</td>\n      <td>Data Scientist\\nLocation: Albuquerque, NM\\nEdu...</td>\n      <td>3.8</td>\n      <td>Albuquerque, NM</td>\n      <td>Goleta, CA</td>\n      <td>501 to 1000 employees</td>\n      <td>1973</td>\n      <td>Company - Private</td>\n      <td>Aerospace &amp; Defense</td>\n      <td>...</td>\n      <td>Tecolote Research\\n</td>\n      <td>NM</td>\n      <td>0</td>\n      <td>47</td>\n      <td>1</td>\n      <td>0</td>\n      <td>0</td>\n      <td>0</td>\n      <td>1</td>\n      <td>Tecolote Research</td>\n    </tr>\n    <tr>\n      <th>1</th>\n      <td>Healthcare Data Scientist</td>\n      <td>$63K-$112K (Glassdoor est.)</td>\n      <td>What You Will Do:\\n\\nI. General Summary\\n\\nThe...</td>\n      <td>3.4</td>\n      <td>Linthicum, MD</td>\n      <td>Baltimore, MD</td>\n      <td>10000+ employees</td>\n      <td>1984</td>\n      <td>Other Organization</td>\n      <td>Health Care Services &amp; Hospitals</td>\n      <td>...</td>\n      <td>University of Maryland Medical System\\n</td>\n      <td>MD</td>\n      <td>0</td>\n      <td>36</td>\n      <td>1</td>\n      <td>0</td>\n      <td>0</td>\n      <td>0</td>\n      <td>0</td>\n      <td>University of Maryland Medical System</td>\n    </tr>\n    <tr>\n      <th>2</th>\n      <td>Data Scientist</td>\n      <td>$80K-$90K (Glassdoor est.)</td>\n      <td>KnowBe4, Inc. is a high growth information sec...</td>\n      <td>4.8</td>\n      <td>Clearwater, FL</td>\n      <td>Clearwater, FL</td>\n      <td>501 to 1000 employees</td>\n      <td>2010</td>\n      <td>Company - Private</td>\n      <td>Security Services</td>\n      <td>...</td>\n      <td>KnowBe4\\n</td>\n      <td>FL</td>\n      <td>1</td>\n      <td>10</td>\n      <td>1</td>\n      <td>0</td>\n      <td>1</td>\n      <td>0</td>\n      <td>1</td>\n      <td>KnowBe4</td>\n    </tr>\n    <tr>\n      <th>3</th>\n      <td>Data Scientist</td>\n      <td>$56K-$97K (Glassdoor est.)</td>\n      <td>*Organization and Job ID**\\nJob ID: 310709\\n\\n...</td>\n      <td>3.8</td>\n      <td>Richland, WA</td>\n      <td>Richland, WA</td>\n      <td>1001 to 5000 employees</td>\n      <td>1965</td>\n      <td>Government</td>\n      <td>Energy</td>\n      <td>...</td>\n      <td>PNNL\\n</td>\n      <td>WA</td>\n      <td>1</td>\n      <td>55</td>\n      <td>1</td>\n      <td>0</td>\n      <td>0</td>\n      <td>0</td>\n      <td>0</td>\n      <td>PNNL</td>\n    </tr>\n    <tr>\n      <th>4</th>\n      <td>Data Scientist</td>\n      <td>$86K-$143K (Glassdoor est.)</td>\n      <td>Data Scientist\\nAffinity Solutions / Marketing...</td>\n      <td>2.9</td>\n      <td>New York, NY</td>\n      <td>New York, NY</td>\n      <td>51 to 200 employees</td>\n      <td>1998</td>\n      <td>Company - Private</td>\n      <td>Advertising &amp; Marketing</td>\n      <td>...</td>\n      <td>Affinity Solutions\\n</td>\n      <td>NY</td>\n      <td>1</td>\n      <td>22</td>\n      <td>1</td>\n      <td>0</td>\n      <td>0</td>\n      <td>0</td>\n      <td>1</td>\n      <td>Affinity Solutions</td>\n    </tr>\n  </tbody>\n</table>\n<p>5 rows × 28 columns</p>\n</div>"
     },
     "execution_count": 3,
     "metadata": {},
     "output_type": "execute_result"
    }
   ],
   "source": [
    "# Print the first few rows of the dataframe\n",
    "df.head()"
   ]
  },
  {
   "cell_type": "markdown",
   "source": [
    "Checking missing value"
   ],
   "metadata": {
    "collapsed": false
   },
   "id": "a007e9648e168f7a"
  },
  {
   "cell_type": "code",
   "execution_count": 4,
   "outputs": [
    {
     "data": {
      "text/plain": "Job Title            0\nSalary Estimate      0\nJob Description      0\nRating               0\nLocation             0\nHeadquarters         0\nSize                 0\nFounded              0\nType of ownership    0\nIndustry             0\nSector               0\nRevenue              0\nCompetitors          0\nhourly               0\nemployer_provided    0\nmin_salary           0\nmax_salary           0\navg_salary           0\ncompany_txt          0\njob_state            0\nsame_state           0\nage                  0\npython_yn            0\nR_yn                 0\nspark                0\naws                  0\nexcel                0\ncompany              0\ndtype: int64"
     },
     "execution_count": 4,
     "metadata": {},
     "output_type": "execute_result"
    }
   ],
   "source": [
    "df.isnull().sum()"
   ],
   "metadata": {
    "collapsed": false,
    "ExecuteTime": {
     "end_time": "2024-01-10T00:00:56.104982Z",
     "start_time": "2024-01-10T00:00:56.096455Z"
    }
   },
   "id": "f315e53f15087472"
  },
  {
   "cell_type": "code",
   "execution_count": 5,
   "outputs": [
    {
     "data": {
      "text/plain": "(732, 28)"
     },
     "execution_count": 5,
     "metadata": {},
     "output_type": "execute_result"
    }
   ],
   "source": [
    "df.shape"
   ],
   "metadata": {
    "collapsed": false,
    "ExecuteTime": {
     "end_time": "2024-01-10T00:00:56.147734Z",
     "start_time": "2024-01-10T00:00:56.108375Z"
    }
   },
   "id": "b0fa113e84e717f2"
  },
  {
   "cell_type": "markdown",
   "source": [
    "Total rows: 741\n",
    "Total columns: 28"
   ],
   "metadata": {
    "collapsed": false
   },
   "id": "8edc0734e9033149"
  },
  {
   "cell_type": "code",
   "execution_count": 6,
   "outputs": [
    {
     "name": "stdout",
     "output_type": "stream",
     "text": [
      "          Column Name Data Type\n",
      "0           Job Title    object\n",
      "1     Salary Estimate    object\n",
      "2     Job Description    object\n",
      "3              Rating   float64\n",
      "4            Location    object\n",
      "5        Headquarters    object\n",
      "6                Size    object\n",
      "7             Founded     int64\n",
      "8   Type of ownership    object\n",
      "9            Industry    object\n",
      "10             Sector    object\n",
      "11            Revenue    object\n",
      "12        Competitors    object\n",
      "13             hourly     int64\n",
      "14  employer_provided     int64\n",
      "15         min_salary     int64\n",
      "16         max_salary     int64\n",
      "17         avg_salary   float64\n",
      "18        company_txt    object\n",
      "19          job_state    object\n",
      "20         same_state     int64\n",
      "21                age     int64\n",
      "22          python_yn     int64\n",
      "23               R_yn     int64\n",
      "24              spark     int64\n",
      "25                aws     int64\n",
      "26              excel     int64\n",
      "27            company    object\n"
     ]
    }
   ],
   "source": [
    "def get_info(df):\n",
    "    column_info = df.dtypes.reset_index()\n",
    "    column_info.columns = ['Column Name', 'Data Type']\n",
    "    return column_info\n",
    "df_info = get_info(df)\n",
    "print(df_info)"
   ],
   "metadata": {
    "collapsed": false,
    "ExecuteTime": {
     "end_time": "2024-01-10T00:00:56.158834Z",
     "start_time": "2024-01-10T00:00:56.115261Z"
    }
   },
   "id": "4eb6d9adb2282138"
  },
  {
   "cell_type": "code",
   "execution_count": 7,
   "outputs": [],
   "source": [
    "df2 = pd.read_sql_table('ds_salaries', 'sqlite:///../data/ds_salaries.sqlite')"
   ],
   "metadata": {
    "collapsed": false,
    "ExecuteTime": {
     "end_time": "2024-01-10T00:00:56.178336Z",
     "start_time": "2024-01-10T00:00:56.120282Z"
    }
   },
   "id": "942c051274138afe"
  },
  {
   "cell_type": "code",
   "execution_count": 8,
   "outputs": [
    {
     "data": {
      "text/plain": "(3755, 11)"
     },
     "execution_count": 8,
     "metadata": {},
     "output_type": "execute_result"
    }
   ],
   "source": [
    "df2.shape"
   ],
   "metadata": {
    "collapsed": false,
    "ExecuteTime": {
     "end_time": "2024-01-10T00:00:56.178765Z",
     "start_time": "2024-01-10T00:00:56.152731Z"
    }
   },
   "id": "791a8d34a464bafd"
  },
  {
   "cell_type": "code",
   "execution_count": 9,
   "outputs": [
    {
     "data": {
      "text/plain": "2023    1785\n2022    1664\n2021     230\n2020      76\nName: work_year, dtype: int64"
     },
     "execution_count": 9,
     "metadata": {},
     "output_type": "execute_result"
    }
   ],
   "source": [
    "df2['work_year'].value_counts()"
   ],
   "metadata": {
    "collapsed": false,
    "ExecuteTime": {
     "end_time": "2024-01-10T00:00:56.205228Z",
     "start_time": "2024-01-10T00:00:56.160918Z"
    }
   },
   "id": "1cb057071b09d9ee"
  },
  {
   "cell_type": "code",
   "execution_count": 10,
   "outputs": [
    {
     "data": {
      "text/plain": "work_year                4\nexperience_level         4\nemployment_type          4\njob_title               93\nsalary                 815\nsalary_currency         20\nsalary_in_usd         1035\nemployee_residence      78\nremote_ratio             3\ncompany_location        72\ncompany_size             3\ndtype: int64"
     },
     "execution_count": 10,
     "metadata": {},
     "output_type": "execute_result"
    }
   ],
   "source": [
    "df2.nunique()"
   ],
   "metadata": {
    "collapsed": false,
    "ExecuteTime": {
     "end_time": "2024-01-10T00:00:56.205959Z",
     "start_time": "2024-01-10T00:00:56.168798Z"
    }
   },
   "id": "d0c84f19e8c44f0e"
  },
  {
   "cell_type": "code",
   "execution_count": 10,
   "outputs": [],
   "source": [],
   "metadata": {
    "collapsed": false,
    "ExecuteTime": {
     "end_time": "2024-01-10T00:00:56.206025Z",
     "start_time": "2024-01-10T00:00:56.180134Z"
    }
   },
   "id": "1bb1f0502b6e5370"
  }
 ],
 "metadata": {
  "kernelspec": {
   "display_name": "Python 3 (ipykernel)",
   "language": "python",
   "name": "python3"
  },
  "language_info": {
   "codemirror_mode": {
    "name": "ipython",
    "version": 3
   },
   "file_extension": ".py",
   "mimetype": "text/x-python",
   "name": "python",
   "nbconvert_exporter": "python",
   "pygments_lexer": "ipython3",
   "version": "3.11.5"
  }
 },
 "nbformat": 4,
 "nbformat_minor": 5
}
